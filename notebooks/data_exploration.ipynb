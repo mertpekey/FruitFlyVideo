{
 "cells": [
  {
   "cell_type": "code",
   "execution_count": 1,
   "metadata": {},
   "outputs": [],
   "source": [
    "import os\n",
    "import cv2\n",
    "import pandas as pd\n",
    "\n",
    "PROJ_DIR = '/Users/mpekey/Desktop/FlyVideo'\n",
    "DATA_PATH = os.path.join(PROJ_DIR, 'Dataset')\n"
   ]
  },
  {
   "attachments": {},
   "cell_type": "markdown",
   "metadata": {},
   "source": [
    "### Label Distribution"
   ]
  },
  {
   "cell_type": "code",
   "execution_count": 2,
   "metadata": {},
   "outputs": [
    {
     "data": {
      "text/plain": [
       "['Feeding', 'Grooming', 'Pumping']"
      ]
     },
     "execution_count": 2,
     "metadata": {},
     "output_type": "execute_result"
    }
   ],
   "source": [
    "labels = [label for label in os.listdir(DATA_PATH) if label != '.DS_Store']\n",
    "labels"
   ]
  },
  {
   "cell_type": "code",
   "execution_count": 17,
   "metadata": {},
   "outputs": [
    {
     "name": "stdout",
     "output_type": "stream",
     "text": [
      "There are 431 videos for the Feeding behaviour.\n",
      "There are 540 videos for the Grooming behaviour.\n",
      "There are 412 videos for the Pumping behaviour.\n",
      "----------------------\n",
      "There are total of 1383 videos\n"
     ]
    }
   ],
   "source": [
    "video_count = 0\n",
    "\n",
    "for label in labels:\n",
    "    label_path = os.path.join(DATA_PATH, label)\n",
    "    label_count = len(os.listdir(label_path))\n",
    "    print(f'There are {label_count} videos for the {label} behaviour.')\n",
    "    video_count += label_count\n",
    "print('----------------------')\n",
    "\n",
    "print(f'There are total of {video_count} videos')"
   ]
  },
  {
   "attachments": {},
   "cell_type": "markdown",
   "metadata": {},
   "source": [
    "### Creating info CSV\n",
    "\n",
    "Includes video features:\n",
    "\n",
    "- File name\n",
    "- Label\n",
    "- FPS\n",
    "- Total number of frames\n",
    "- Height\n",
    "- Width"
   ]
  },
  {
   "cell_type": "code",
   "execution_count": 49,
   "metadata": {},
   "outputs": [
    {
     "data": {
      "text/html": [
       "<div>\n",
       "<style scoped>\n",
       "    .dataframe tbody tr th:only-of-type {\n",
       "        vertical-align: middle;\n",
       "    }\n",
       "\n",
       "    .dataframe tbody tr th {\n",
       "        vertical-align: top;\n",
       "    }\n",
       "\n",
       "    .dataframe thead th {\n",
       "        text-align: right;\n",
       "    }\n",
       "</style>\n",
       "<table border=\"1\" class=\"dataframe\">\n",
       "  <thead>\n",
       "    <tr style=\"text-align: right;\">\n",
       "      <th></th>\n",
       "      <th>video_file</th>\n",
       "      <th>label</th>\n",
       "      <th>fps</th>\n",
       "      <th>num_frame</th>\n",
       "      <th>height</th>\n",
       "      <th>width</th>\n",
       "      <th>duration</th>\n",
       "    </tr>\n",
       "  </thead>\n",
       "  <tbody>\n",
       "    <tr>\n",
       "      <th>0</th>\n",
       "      <td>v_feeding_g01_716.avi</td>\n",
       "      <td>Feeding</td>\n",
       "      <td>30.0</td>\n",
       "      <td>281.0</td>\n",
       "      <td>800.0</td>\n",
       "      <td>1100.0</td>\n",
       "      <td>9.366667</td>\n",
       "    </tr>\n",
       "    <tr>\n",
       "      <th>1</th>\n",
       "      <td>v_feeding_g01_266.avi</td>\n",
       "      <td>Feeding</td>\n",
       "      <td>30.0</td>\n",
       "      <td>250.0</td>\n",
       "      <td>800.0</td>\n",
       "      <td>1100.0</td>\n",
       "      <td>8.333333</td>\n",
       "    </tr>\n",
       "    <tr>\n",
       "      <th>2</th>\n",
       "      <td>v_feeding_g01_514.avi</td>\n",
       "      <td>Feeding</td>\n",
       "      <td>30.0</td>\n",
       "      <td>580.0</td>\n",
       "      <td>800.0</td>\n",
       "      <td>1100.0</td>\n",
       "      <td>19.333333</td>\n",
       "    </tr>\n",
       "  </tbody>\n",
       "</table>\n",
       "</div>"
      ],
      "text/plain": [
       "              video_file    label   fps  num_frame  height   width   duration\n",
       "0  v_feeding_g01_716.avi  Feeding  30.0      281.0   800.0  1100.0   9.366667\n",
       "1  v_feeding_g01_266.avi  Feeding  30.0      250.0   800.0  1100.0   8.333333\n",
       "2  v_feeding_g01_514.avi  Feeding  30.0      580.0   800.0  1100.0  19.333333"
      ]
     },
     "execution_count": 49,
     "metadata": {},
     "output_type": "execute_result"
    }
   ],
   "source": [
    "data_dict = {\n",
    "    'video_file':[],\n",
    "    'label':[],\n",
    "    'fps':[],\n",
    "    'num_frame':[],\n",
    "    'height':[],\n",
    "    'width':[]\n",
    "}\n",
    "\n",
    "for label in labels:\n",
    "    label_file_path = os.path.join(DATA_PATH, label)\n",
    "\n",
    "    for video_path in os.listdir(label_file_path):\n",
    "\n",
    "        video = cv2.VideoCapture(os.path.join(label_file_path, video_path))\n",
    "\n",
    "        data_dict['video_file'].append(video_path)\n",
    "        data_dict['label'].append(label)\n",
    "        data_dict['fps'].append(video.get(cv2.CAP_PROP_FPS))\n",
    "        data_dict['num_frame'].append(video.get(cv2.CAP_PROP_FRAME_COUNT))\n",
    "        data_dict['height'].append(video.get(cv2.CAP_PROP_FRAME_HEIGHT))\n",
    "        data_dict['width'].append(video.get(cv2.CAP_PROP_FRAME_WIDTH))\n",
    "\n",
    "video_df = pd.DataFrame(data_dict)\n",
    "video_df['duration'] = video_df['num_frame'] / video_df['fps']\n",
    "\n",
    "video_df.head(3)"
   ]
  },
  {
   "cell_type": "code",
   "execution_count": 50,
   "metadata": {},
   "outputs": [],
   "source": [
    "video_df.to_csv(os.path.join(PROJ_DIR, 'video_info.csv'), index=False)"
   ]
  },
  {
   "attachments": {},
   "cell_type": "markdown",
   "metadata": {},
   "source": [
    "### Analyzing Video Features"
   ]
  },
  {
   "attachments": {},
   "cell_type": "markdown",
   "metadata": {},
   "source": [
    "Videos will be resized to (800, 1000). All of them has 30 fps."
   ]
  },
  {
   "cell_type": "code",
   "execution_count": 51,
   "metadata": {},
   "outputs": [
    {
     "data": {
      "text/html": [
       "<div>\n",
       "<style scoped>\n",
       "    .dataframe tbody tr th:only-of-type {\n",
       "        vertical-align: middle;\n",
       "    }\n",
       "\n",
       "    .dataframe tbody tr th {\n",
       "        vertical-align: top;\n",
       "    }\n",
       "\n",
       "    .dataframe thead th {\n",
       "        text-align: right;\n",
       "    }\n",
       "</style>\n",
       "<table border=\"1\" class=\"dataframe\">\n",
       "  <thead>\n",
       "    <tr style=\"text-align: right;\">\n",
       "      <th></th>\n",
       "      <th>fps</th>\n",
       "      <th>num_frame</th>\n",
       "      <th>height</th>\n",
       "      <th>width</th>\n",
       "      <th>duration</th>\n",
       "    </tr>\n",
       "  </thead>\n",
       "  <tbody>\n",
       "    <tr>\n",
       "      <th>count</th>\n",
       "      <td>1383.0</td>\n",
       "      <td>1383.000000</td>\n",
       "      <td>1383.000000</td>\n",
       "      <td>1383.000000</td>\n",
       "      <td>1383.000000</td>\n",
       "    </tr>\n",
       "    <tr>\n",
       "      <th>mean</th>\n",
       "      <td>30.0</td>\n",
       "      <td>471.167028</td>\n",
       "      <td>800.086768</td>\n",
       "      <td>1100.167751</td>\n",
       "      <td>15.705568</td>\n",
       "    </tr>\n",
       "    <tr>\n",
       "      <th>std</th>\n",
       "      <td>0.0</td>\n",
       "      <td>615.542355</td>\n",
       "      <td>3.226786</td>\n",
       "      <td>6.238453</td>\n",
       "      <td>20.518079</td>\n",
       "    </tr>\n",
       "    <tr>\n",
       "      <th>min</th>\n",
       "      <td>30.0</td>\n",
       "      <td>11.000000</td>\n",
       "      <td>800.000000</td>\n",
       "      <td>1100.000000</td>\n",
       "      <td>0.366667</td>\n",
       "    </tr>\n",
       "    <tr>\n",
       "      <th>25%</th>\n",
       "      <td>30.0</td>\n",
       "      <td>108.500000</td>\n",
       "      <td>800.000000</td>\n",
       "      <td>1100.000000</td>\n",
       "      <td>3.616667</td>\n",
       "    </tr>\n",
       "    <tr>\n",
       "      <th>50%</th>\n",
       "      <td>30.0</td>\n",
       "      <td>248.000000</td>\n",
       "      <td>800.000000</td>\n",
       "      <td>1100.000000</td>\n",
       "      <td>8.266667</td>\n",
       "    </tr>\n",
       "    <tr>\n",
       "      <th>75%</th>\n",
       "      <td>30.0</td>\n",
       "      <td>598.000000</td>\n",
       "      <td>800.000000</td>\n",
       "      <td>1100.000000</td>\n",
       "      <td>19.933333</td>\n",
       "    </tr>\n",
       "    <tr>\n",
       "      <th>max</th>\n",
       "      <td>30.0</td>\n",
       "      <td>5676.000000</td>\n",
       "      <td>920.000000</td>\n",
       "      <td>1332.000000</td>\n",
       "      <td>189.200000</td>\n",
       "    </tr>\n",
       "  </tbody>\n",
       "</table>\n",
       "</div>"
      ],
      "text/plain": [
       "          fps    num_frame       height        width     duration\n",
       "count  1383.0  1383.000000  1383.000000  1383.000000  1383.000000\n",
       "mean     30.0   471.167028   800.086768  1100.167751    15.705568\n",
       "std       0.0   615.542355     3.226786     6.238453    20.518079\n",
       "min      30.0    11.000000   800.000000  1100.000000     0.366667\n",
       "25%      30.0   108.500000   800.000000  1100.000000     3.616667\n",
       "50%      30.0   248.000000   800.000000  1100.000000     8.266667\n",
       "75%      30.0   598.000000   800.000000  1100.000000    19.933333\n",
       "max      30.0  5676.000000   920.000000  1332.000000   189.200000"
      ]
     },
     "execution_count": 51,
     "metadata": {},
     "output_type": "execute_result"
    }
   ],
   "source": [
    "video_df.describe()"
   ]
  },
  {
   "attachments": {},
   "cell_type": "markdown",
   "metadata": {},
   "source": [
    "### Load Info CSV"
   ]
  },
  {
   "cell_type": "code",
   "execution_count": 4,
   "metadata": {},
   "outputs": [
    {
     "data": {
      "text/html": [
       "<div>\n",
       "<style scoped>\n",
       "    .dataframe tbody tr th:only-of-type {\n",
       "        vertical-align: middle;\n",
       "    }\n",
       "\n",
       "    .dataframe tbody tr th {\n",
       "        vertical-align: top;\n",
       "    }\n",
       "\n",
       "    .dataframe thead th {\n",
       "        text-align: right;\n",
       "    }\n",
       "</style>\n",
       "<table border=\"1\" class=\"dataframe\">\n",
       "  <thead>\n",
       "    <tr style=\"text-align: right;\">\n",
       "      <th></th>\n",
       "      <th>video_file</th>\n",
       "      <th>label</th>\n",
       "      <th>fps</th>\n",
       "      <th>num_frame</th>\n",
       "      <th>height</th>\n",
       "      <th>width</th>\n",
       "      <th>duration</th>\n",
       "    </tr>\n",
       "  </thead>\n",
       "  <tbody>\n",
       "    <tr>\n",
       "      <th>0</th>\n",
       "      <td>v_feeding_g01_716.avi</td>\n",
       "      <td>Feeding</td>\n",
       "      <td>30.0</td>\n",
       "      <td>281.0</td>\n",
       "      <td>800.0</td>\n",
       "      <td>1100.0</td>\n",
       "      <td>9.366667</td>\n",
       "    </tr>\n",
       "    <tr>\n",
       "      <th>1</th>\n",
       "      <td>v_feeding_g01_266.avi</td>\n",
       "      <td>Feeding</td>\n",
       "      <td>30.0</td>\n",
       "      <td>250.0</td>\n",
       "      <td>800.0</td>\n",
       "      <td>1100.0</td>\n",
       "      <td>8.333333</td>\n",
       "    </tr>\n",
       "    <tr>\n",
       "      <th>2</th>\n",
       "      <td>v_feeding_g01_514.avi</td>\n",
       "      <td>Feeding</td>\n",
       "      <td>30.0</td>\n",
       "      <td>580.0</td>\n",
       "      <td>800.0</td>\n",
       "      <td>1100.0</td>\n",
       "      <td>19.333333</td>\n",
       "    </tr>\n",
       "  </tbody>\n",
       "</table>\n",
       "</div>"
      ],
      "text/plain": [
       "              video_file    label   fps  num_frame  height   width   duration\n",
       "0  v_feeding_g01_716.avi  Feeding  30.0      281.0   800.0  1100.0   9.366667\n",
       "1  v_feeding_g01_266.avi  Feeding  30.0      250.0   800.0  1100.0   8.333333\n",
       "2  v_feeding_g01_514.avi  Feeding  30.0      580.0   800.0  1100.0  19.333333"
      ]
     },
     "execution_count": 4,
     "metadata": {},
     "output_type": "execute_result"
    }
   ],
   "source": [
    "info_csv_path = os.path.join(PROJ_DIR, 'Supplementary_Files','video_info.csv')\n",
    "video_df = pd.read_csv(info_csv_path)\n",
    "video_df.head(3)"
   ]
  },
  {
   "attachments": {},
   "cell_type": "markdown",
   "metadata": {},
   "source": [
    "### Further Analysis"
   ]
  },
  {
   "attachments": {},
   "cell_type": "markdown",
   "metadata": {},
   "source": [
    "Some videos are shorter than 1 seconds"
   ]
  },
  {
   "cell_type": "code",
   "execution_count": 4,
   "metadata": {},
   "outputs": [
    {
     "data": {
      "text/html": [
       "<div>\n",
       "<style scoped>\n",
       "    .dataframe tbody tr th:only-of-type {\n",
       "        vertical-align: middle;\n",
       "    }\n",
       "\n",
       "    .dataframe tbody tr th {\n",
       "        vertical-align: top;\n",
       "    }\n",
       "\n",
       "    .dataframe thead th {\n",
       "        text-align: right;\n",
       "    }\n",
       "</style>\n",
       "<table border=\"1\" class=\"dataframe\">\n",
       "  <thead>\n",
       "    <tr style=\"text-align: right;\">\n",
       "      <th></th>\n",
       "      <th>video_file</th>\n",
       "      <th>label</th>\n",
       "      <th>fps</th>\n",
       "      <th>num_frame</th>\n",
       "      <th>height</th>\n",
       "      <th>width</th>\n",
       "      <th>duration</th>\n",
       "    </tr>\n",
       "  </thead>\n",
       "  <tbody>\n",
       "    <tr>\n",
       "      <th>386</th>\n",
       "      <td>v_feeding_g01_453.avi</td>\n",
       "      <td>Feeding</td>\n",
       "      <td>30.0</td>\n",
       "      <td>11.0</td>\n",
       "      <td>800.0</td>\n",
       "      <td>1100.0</td>\n",
       "      <td>0.366667</td>\n",
       "    </tr>\n",
       "  </tbody>\n",
       "</table>\n",
       "</div>"
      ],
      "text/plain": [
       "                video_file    label   fps  num_frame  height   width  duration\n",
       "386  v_feeding_g01_453.avi  Feeding  30.0       11.0   800.0  1100.0  0.366667"
      ]
     },
     "execution_count": 4,
     "metadata": {},
     "output_type": "execute_result"
    }
   ],
   "source": [
    "video_df[video_df['num_frame'] == video_df['num_frame'].min()]"
   ]
  },
  {
   "attachments": {},
   "cell_type": "markdown",
   "metadata": {},
   "source": [
    "Default number of frames in VideoMAE model is 16."
   ]
  },
  {
   "cell_type": "code",
   "execution_count": 5,
   "metadata": {},
   "outputs": [
    {
     "data": {
      "text/plain": [
       "(1382, 7)"
      ]
     },
     "execution_count": 5,
     "metadata": {},
     "output_type": "execute_result"
    }
   ],
   "source": [
    "video_df[video_df['num_frame'] >= 16].shape"
   ]
  },
  {
   "attachments": {},
   "cell_type": "markdown",
   "metadata": {},
   "source": [
    "If we want to take the videos longer than 5 seconds only"
   ]
  },
  {
   "cell_type": "code",
   "execution_count": 6,
   "metadata": {},
   "outputs": [
    {
     "data": {
      "text/plain": [
       "(908, 7)"
      ]
     },
     "execution_count": 6,
     "metadata": {},
     "output_type": "execute_result"
    }
   ],
   "source": [
    "video_df[video_df['duration'] >= 5].shape"
   ]
  },
  {
   "attachments": {},
   "cell_type": "markdown",
   "metadata": {},
   "source": [
    "### Analyzing Data Creation Bias on Video Length\n",
    "\n",
    "Using a Decision Tree with depth of 1, we are going to look if video length has a bias on fly behaviour due to creation of data."
   ]
  },
  {
   "cell_type": "code",
   "execution_count": 5,
   "metadata": {},
   "outputs": [
    {
     "data": {
      "text/html": [
       "<div>\n",
       "<style scoped>\n",
       "    .dataframe tbody tr th:only-of-type {\n",
       "        vertical-align: middle;\n",
       "    }\n",
       "\n",
       "    .dataframe tbody tr th {\n",
       "        vertical-align: top;\n",
       "    }\n",
       "\n",
       "    .dataframe thead th {\n",
       "        text-align: right;\n",
       "    }\n",
       "</style>\n",
       "<table border=\"1\" class=\"dataframe\">\n",
       "  <thead>\n",
       "    <tr style=\"text-align: right;\">\n",
       "      <th></th>\n",
       "      <th>video_file</th>\n",
       "      <th>label</th>\n",
       "      <th>fps</th>\n",
       "      <th>num_frame</th>\n",
       "      <th>height</th>\n",
       "      <th>width</th>\n",
       "      <th>duration</th>\n",
       "    </tr>\n",
       "  </thead>\n",
       "  <tbody>\n",
       "    <tr>\n",
       "      <th>0</th>\n",
       "      <td>v_feeding_g01_716.avi</td>\n",
       "      <td>Feeding</td>\n",
       "      <td>30.0</td>\n",
       "      <td>281.0</td>\n",
       "      <td>800.0</td>\n",
       "      <td>1100.0</td>\n",
       "      <td>9.366667</td>\n",
       "    </tr>\n",
       "    <tr>\n",
       "      <th>1</th>\n",
       "      <td>v_feeding_g01_266.avi</td>\n",
       "      <td>Feeding</td>\n",
       "      <td>30.0</td>\n",
       "      <td>250.0</td>\n",
       "      <td>800.0</td>\n",
       "      <td>1100.0</td>\n",
       "      <td>8.333333</td>\n",
       "    </tr>\n",
       "    <tr>\n",
       "      <th>2</th>\n",
       "      <td>v_feeding_g01_514.avi</td>\n",
       "      <td>Feeding</td>\n",
       "      <td>30.0</td>\n",
       "      <td>580.0</td>\n",
       "      <td>800.0</td>\n",
       "      <td>1100.0</td>\n",
       "      <td>19.333333</td>\n",
       "    </tr>\n",
       "    <tr>\n",
       "      <th>3</th>\n",
       "      <td>v_feeding_g01_528.avi</td>\n",
       "      <td>Feeding</td>\n",
       "      <td>30.0</td>\n",
       "      <td>210.0</td>\n",
       "      <td>800.0</td>\n",
       "      <td>1100.0</td>\n",
       "      <td>7.000000</td>\n",
       "    </tr>\n",
       "    <tr>\n",
       "      <th>4</th>\n",
       "      <td>v_feeding_g01_312.avi</td>\n",
       "      <td>Feeding</td>\n",
       "      <td>30.0</td>\n",
       "      <td>193.0</td>\n",
       "      <td>800.0</td>\n",
       "      <td>1100.0</td>\n",
       "      <td>6.433333</td>\n",
       "    </tr>\n",
       "  </tbody>\n",
       "</table>\n",
       "</div>"
      ],
      "text/plain": [
       "              video_file    label   fps  num_frame  height   width   duration\n",
       "0  v_feeding_g01_716.avi  Feeding  30.0      281.0   800.0  1100.0   9.366667\n",
       "1  v_feeding_g01_266.avi  Feeding  30.0      250.0   800.0  1100.0   8.333333\n",
       "2  v_feeding_g01_514.avi  Feeding  30.0      580.0   800.0  1100.0  19.333333\n",
       "3  v_feeding_g01_528.avi  Feeding  30.0      210.0   800.0  1100.0   7.000000\n",
       "4  v_feeding_g01_312.avi  Feeding  30.0      193.0   800.0  1100.0   6.433333"
      ]
     },
     "execution_count": 5,
     "metadata": {},
     "output_type": "execute_result"
    }
   ],
   "source": [
    "video_df[['duration', 'label']]"
   ]
  },
  {
   "cell_type": "code",
   "execution_count": 16,
   "metadata": {},
   "outputs": [
    {
     "name": "stdout",
     "output_type": "stream",
     "text": [
      "0.3904567571809763\n"
     ]
    },
    {
     "data": {
      "text/plain": [
       "[Text(0.5, 0.75, 'x[0] <= 40.2\\ngini = 0.662\\nsamples = 1383\\nvalue = [431, 540, 412]'),\n",
       " Text(0.25, 0.25, 'gini = 0.665\\nsamples = 1273\\nvalue = [410, 460, 403]'),\n",
       " Text(0.75, 0.25, 'gini = 0.428\\nsamples = 110\\nvalue = [21, 80, 9]')]"
      ]
     },
     "execution_count": 16,
     "metadata": {},
     "output_type": "execute_result"
    },
    {
     "data": {
      "image/png": "[encoded data removed]",
      "text/plain": [
       "<Figure size 640x480 with 1 Axes>"
      ]
     },
     "metadata": {},
     "output_type": "display_data"
    }
   ],
   "source": [
    "import numpy as np\n",
    "from sklearn.tree import DecisionTreeClassifier, plot_tree\n",
    "from sklearn.model_selection import cross_val_score\n",
    "\n",
    "clf = DecisionTreeClassifier(max_depth=1, random_state=0)\n",
    "\n",
    "X = video_df[['duration']].values\n",
    "y = video_df[['label']].values\n",
    "\n",
    "clf.fit(X, y)\n",
    "\n",
    "print(np.mean(cross_val_score(clf, X, y, cv=5)))\n",
    "\n",
    "plot_tree(clf)"
   ]
  },
  {
   "attachments": {},
   "cell_type": "markdown",
   "metadata": {},
   "source": [
    "### Creating Train and Validation Split"
   ]
  },
  {
   "attachments": {},
   "cell_type": "markdown",
   "metadata": {},
   "source": [
    "I will be using different sample rates but for now I decided to use sample_rate = 16 or lower. So because the fps is 30 and number of frames I want to generate is 8, the clip duration is 4.26. That's why I filter the data as duration >= 5"
   ]
  },
  {
   "cell_type": "code",
   "execution_count": 8,
   "metadata": {},
   "outputs": [],
   "source": [
    "longer_video_df = video_df[video_df['duration'] >= 5]"
   ]
  },
  {
   "cell_type": "code",
   "execution_count": 10,
   "metadata": {},
   "outputs": [],
   "source": [
    "from sklearn.model_selection import train_test_split\n",
    "\n",
    "train_df, val_df = train_test_split(longer_video_df, test_size=0.3, stratify=longer_video_df['label'], random_state=22)"
   ]
  },
  {
   "cell_type": "code",
   "execution_count": 14,
   "metadata": {},
   "outputs": [
    {
     "data": {
      "text/html": [
       "<div>\n",
       "<style scoped>\n",
       "    .dataframe tbody tr th:only-of-type {\n",
       "        vertical-align: middle;\n",
       "    }\n",
       "\n",
       "    .dataframe tbody tr th {\n",
       "        vertical-align: top;\n",
       "    }\n",
       "\n",
       "    .dataframe thead th {\n",
       "        text-align: right;\n",
       "    }\n",
       "</style>\n",
       "<table border=\"1\" class=\"dataframe\">\n",
       "  <thead>\n",
       "    <tr style=\"text-align: right;\">\n",
       "      <th></th>\n",
       "      <th>video_file</th>\n",
       "      <th>label</th>\n",
       "      <th>fps</th>\n",
       "      <th>num_frame</th>\n",
       "      <th>height</th>\n",
       "      <th>width</th>\n",
       "      <th>duration</th>\n",
       "    </tr>\n",
       "  </thead>\n",
       "  <tbody>\n",
       "    <tr>\n",
       "      <th>1304</th>\n",
       "      <td>prob_33_981244_981479.avi</td>\n",
       "      <td>Pumping</td>\n",
       "      <td>30.0</td>\n",
       "      <td>235.0</td>\n",
       "      <td>800.0</td>\n",
       "      <td>1100.0</td>\n",
       "      <td>7.833333</td>\n",
       "    </tr>\n",
       "    <tr>\n",
       "      <th>171</th>\n",
       "      <td>v_feeding_g01_613.avi</td>\n",
       "      <td>Feeding</td>\n",
       "      <td>30.0</td>\n",
       "      <td>1683.0</td>\n",
       "      <td>800.0</td>\n",
       "      <td>1100.0</td>\n",
       "      <td>56.100000</td>\n",
       "    </tr>\n",
       "    <tr>\n",
       "      <th>873</th>\n",
       "      <td>grooming_66_374362_375651.avi</td>\n",
       "      <td>Grooming</td>\n",
       "      <td>30.0</td>\n",
       "      <td>1289.0</td>\n",
       "      <td>800.0</td>\n",
       "      <td>1100.0</td>\n",
       "      <td>42.966667</td>\n",
       "    </tr>\n",
       "  </tbody>\n",
       "</table>\n",
       "</div>"
      ],
      "text/plain": [
       "                         video_file     label   fps  num_frame  height   \n",
       "1304      prob_33_981244_981479.avi   Pumping  30.0      235.0   800.0  \\\n",
       "171           v_feeding_g01_613.avi   Feeding  30.0     1683.0   800.0   \n",
       "873   grooming_66_374362_375651.avi  Grooming  30.0     1289.0   800.0   \n",
       "\n",
       "       width   duration  \n",
       "1304  1100.0   7.833333  \n",
       "171   1100.0  56.100000  \n",
       "873   1100.0  42.966667  "
      ]
     },
     "execution_count": 14,
     "metadata": {},
     "output_type": "execute_result"
    }
   ],
   "source": [
    "train_df.head(3)"
   ]
  },
  {
   "cell_type": "code",
   "execution_count": 15,
   "metadata": {},
   "outputs": [],
   "source": [
    "import os\n",
    "import pandas as pd\n",
    "from shutil import copyfile\n",
    "\n",
    "PROJ_DIR = '/Users/mpekey/Desktop/FlyVideo'\n",
    "DATA_PATH = os.path.join(PROJ_DIR, 'Dataset')\n",
    "OUTPUT_FOLDER = \"FlyTrainingData\"\n",
    "label_names = [\"Feeding\", \"Grooming\", \"Pumping\"]\n",
    "\n",
    "# Create the output folder and subfolders\n",
    "os.makedirs(os.path.join(PROJ_DIR, OUTPUT_FOLDER, \"Train\"), exist_ok=True)\n",
    "os.makedirs(os.path.join(PROJ_DIR, OUTPUT_FOLDER, \"Validation\"), exist_ok=True)\n",
    "\n",
    "for label_name in label_names:\n",
    "    os.makedirs(os.path.join(PROJ_DIR, OUTPUT_FOLDER, \"Train\", label_name), exist_ok=True)\n",
    "    os.makedirs(os.path.join(PROJ_DIR, OUTPUT_FOLDER, \"Validation\", label_name), exist_ok=True)\n"
   ]
  },
  {
   "cell_type": "code",
   "execution_count": 17,
   "metadata": {},
   "outputs": [],
   "source": [
    "# Copy the train videos to the output folder\n",
    "\n",
    "def copy_data_to_subset(data, is_train=True):\n",
    "\n",
    "    split_name = 'Train' if is_train else 'Validation'\n",
    "\n",
    "    for index, row in data.iterrows():\n",
    "        video_file = row[\"video_file\"]\n",
    "        label = row[\"label\"]\n",
    "        src_file = os.path.join(DATA_PATH, label, video_file)\n",
    "        dst_file = os.path.join(PROJ_DIR, OUTPUT_FOLDER, split_name, label, video_file)\n",
    "        copyfile(src_file, dst_file)\n",
    "\n",
    "\n",
    "copy_data_to_subset(train_df, is_train=True)\n",
    "copy_data_to_subset(val_df, is_train=False)"
   ]
  },
  {
   "cell_type": "code",
   "execution_count": 32,
   "metadata": {},
   "outputs": [],
   "source": [
    "train_df.to_csv(os.path.join(PROJ_DIR, 'train_data_info.csv'), index=False)\n",
    "val_df.to_csv(os.path.join(PROJ_DIR, 'val_data_info.csv'), index=False)"
   ]
  }
 ],
 "metadata": {
  "kernelspec": {
   "display_name": "lightning",
   "language": "python",
   "name": "python3"
  },
  "language_info": {
   "codemirror_mode": {
    "name": "ipython",
    "version": 3
   },
   "file_extension": ".py",
   "mimetype": "text/x-python",
   "name": "python",
   "nbconvert_exporter": "python",
   "pygments_lexer": "ipython3",
   "version": "3.10.10"
  },
  "orig_nbformat": 4
 },
 "nbformat": 4,
 "nbformat_minor": 2
}
